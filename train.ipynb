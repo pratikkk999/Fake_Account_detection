{
 "cells": [
  {
   "cell_type": "code",
   "execution_count": 1,
   "id": "2fd8afce-f2f0-43b9-83f0-3c33dd48d15f",
   "metadata": {},
   "outputs": [],
   "source": [
    "import pandas as pd"
   ]
  },
  {
   "cell_type": "code",
   "execution_count": 2,
   "id": "ca1766f0-65b8-4d2c-917c-05c0ddb0666d",
   "metadata": {},
   "outputs": [],
   "source": [
    "df=pd.read_csv('final-v1.csv')"
   ]
  },
  {
   "cell_type": "code",
   "execution_count": 3,
   "id": "5105a4cd-71c6-4a51-b742-104aeae9f2dc",
   "metadata": {},
   "outputs": [
    {
     "data": {
      "text/plain": [
       "Index(['edge_followed_by', 'edge_follow', 'username_length',\n",
       "       'username_has_number', 'full_name_has_number', 'full_name_length',\n",
       "       'is_private', 'is_joined_recently', 'has_channel',\n",
       "       'is_business_account', 'has_guides', 'has_external_url', 'is_fake'],\n",
       "      dtype='object')"
      ]
     },
     "execution_count": 3,
     "metadata": {},
     "output_type": "execute_result"
    }
   ],
   "source": [
    "df.columns"
   ]
  },
  {
   "cell_type": "code",
   "execution_count": 3,
   "id": "6b687744-b2e2-4e76-a196-7e186660b929",
   "metadata": {},
   "outputs": [
    {
     "name": "stdout",
     "output_type": "stream",
     "text": [
      "RandomForest Model Accuracy: 89.17%\n",
      "Logistic Regression Model Accuracy: 92.36%\n",
      "Models saved as 'random_forest_fake_account_classifier.pkl' and 'logistic_regression_fake_account_classifier.pkl'\n"
     ]
    }
   ],
   "source": [
    "import pandas as pd\n",
    "from sklearn.model_selection import train_test_split\n",
    "from sklearn.ensemble import RandomForestClassifier\n",
    "from sklearn.linear_model import LogisticRegression\n",
    "from sklearn.metrics import accuracy_score\n",
    "import pickle\n",
    "\n",
    "# Load your dataset\n",
    "# Replace 'your_dataset.csv' with the path to your actual dataset\n",
    "data = pd.read_csv('final-v1.csv')\n",
    "\n",
    "# Define input features and target\n",
    "X = data[[ 'username_length', \n",
    "          'username_has_number', 'full_name_has_number', 'full_name_length', \n",
    "          'is_private', 'is_joined_recently', 'has_channel', \n",
    "          'is_business_account', 'has_guides', 'has_external_url']]\n",
    "y = data['is_fake']\n",
    "\n",
    "# Split the dataset into training and testing sets\n",
    "X_train, X_test, y_train, y_test = train_test_split(X, y, test_size=0.2, random_state=42)\n",
    "\n",
    "# Initialize and train the RandomForest model\n",
    "rf_model = RandomForestClassifier(random_state=42)\n",
    "rf_model.fit(X_train, y_train)\n",
    "\n",
    "# Initialize and train the Logistic Regression model\n",
    "lr_model = LogisticRegression(random_state=42, max_iter=1000)\n",
    "lr_model.fit(X_train, y_train)\n",
    "\n",
    "# Make predictions and evaluate the RandomForest model\n",
    "rf_pred = rf_model.predict(X_test)\n",
    "rf_accuracy = accuracy_score(y_test, rf_pred)\n",
    "print(f'RandomForest Model Accuracy: {rf_accuracy * 100:.2f}%')\n",
    "\n",
    "# Make predictions and evaluate the Logistic Regression model\n",
    "lr_pred = lr_model.predict(X_test)\n",
    "lr_accuracy = accuracy_score(y_test, lr_pred)\n",
    "print(f'Logistic Regression Model Accuracy: {lr_accuracy * 100:.2f}%')\n",
    "\n",
    "# Save both models to separate .pkl files\n",
    "with open('random_forest_fake_account_classifier.pkl', 'wb') as rf_file:\n",
    "    pickle.dump(rf_model, rf_file)\n",
    "\n",
    "with open('logistic_regression_fake_account_classifier.pkl', 'wb') as lr_file:\n",
    "    pickle.dump(lr_model, lr_file)\n",
    "\n",
    "print(\"Models saved as 'random_forest_fake_account_classifier.pkl' and 'logistic_regression_fake_account_classifier.pkl'\")\n"
   ]
  },
  {
   "cell_type": "code",
   "execution_count": null,
   "id": "7ff63009-6ea5-4955-886a-25f59f29e71e",
   "metadata": {},
   "outputs": [],
   "source": []
  }
 ],
 "metadata": {
  "kernelspec": {
   "display_name": "Python 3",
   "language": "python",
   "name": "python3"
  },
  "language_info": {
   "codemirror_mode": {
    "name": "ipython",
    "version": 3
   },
   "file_extension": ".py",
   "mimetype": "text/x-python",
   "name": "python",
   "nbconvert_exporter": "python",
   "pygments_lexer": "ipython3",
   "version": "3.12.1"
  }
 },
 "nbformat": 4,
 "nbformat_minor": 5
}
